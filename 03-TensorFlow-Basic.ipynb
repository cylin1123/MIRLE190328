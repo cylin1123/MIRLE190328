{
 "cells": [
  {
   "cell_type": "markdown",
   "metadata": {},
   "source": [
    "### 1. TensorFlow - 基本概念"
   ]
  },
  {
   "cell_type": "markdown",
   "metadata": {},
   "source": [
    "* Tensor (張量) : 為TensorFlow的基本資料結構, 可視為一個多維的陣列或串列\n",
    "* 級別 (Rank) : 維度單位, 表示Tensor的維數\n",
    "* 形狀 (Shape): 表示Tensor有幾列幾行 \n",
    "* 型別 (Type): 指定Tensor的資料型別\n"
   ]
  },
  {
   "cell_type": "markdown",
   "metadata": {},
   "source": [
    "### 1.0 安裝Tensorflow"
   ]
  },
  {
   "cell_type": "markdown",
   "metadata": {},
   "source": [
    "系統要求 : <br> \n",
    "* Ubuntu 16.04 或更高版本（64 位）\n",
    "* macOS 10.12.6 (Sierra) 或更高版本（64 位）（不支持 GPU）\n",
    "* Windows 7 或更高版本（64 位）（僅支持 Python 3.4 / 3.5 /3.6 ）\n",
    "* Raspbian 9.0 或更高版本"
   ]
  },
  {
   "cell_type": "markdown",
   "metadata": {},
   "source": [
    "Install Command : \n",
    "* pip3 install --upgrade tensorflow"
   ]
  },
  {
   "cell_type": "markdown",
   "metadata": {},
   "source": [
    "#### 1.1 引入程式庫"
   ]
  },
  {
   "cell_type": "code",
   "execution_count": 1,
   "metadata": {},
   "outputs": [],
   "source": [
    "import tensorflow as tf"
   ]
  },
  {
   "cell_type": "markdown",
   "metadata": {},
   "source": [
    "#### 1.2 Hello TensorFlow\n",
    "\n",
    "Session() :  Client端程式和Tensorflow系統建立通訊時所建立(初始化圖形)\n"
   ]
  },
  {
   "cell_type": "code",
   "execution_count": 2,
   "metadata": {},
   "outputs": [
    {
     "name": "stdout",
     "output_type": "stream",
     "text": [
      "Tensor(\"Const:0\", shape=(), dtype=string)\n"
     ]
    }
   ],
   "source": [
    "import tensorflow as tf\n",
    "hello = tf.constant(\"Hello World - TensorFlow!!\")\n",
    "print(hello)\n"
   ]
  },
  {
   "cell_type": "code",
   "execution_count": 3,
   "metadata": {},
   "outputs": [],
   "source": [
    "# session = tf.Session()\n",
    "# print(session.run(hello))\n",
    "# session.close()\n",
    "\n",
    "# with tf.Session() as session:\n",
    "#     print(session.run(hello))"
   ]
  },
  {
   "cell_type": "markdown",
   "metadata": {},
   "source": [
    "#### 1.3 TensorFlow -Constant (常數) , Variable （變數）& placeHolder(預留位）\n",
    "\n",
    "\n"
   ]
  },
  {
   "cell_type": "code",
   "execution_count": 4,
   "metadata": {},
   "outputs": [
    {
     "name": "stdout",
     "output_type": "stream",
     "text": [
      "Tensor(\"a:0\", shape=(), dtype=int32) Tensor(\"b:0\", shape=(), dtype=int32)\n",
      "Tensor(\"c:0\", shape=(), dtype=int32)\n",
      "x :10\n",
      "y :20\n"
     ]
    }
   ],
   "source": [
    "#tf.constant(value, dtype, shape, name)\n",
    "\n",
    "import tensorflow as tf\n",
    "x = tf.constant(10,name='a')\n",
    "y = tf.constant(20,name='b')\n",
    "\n",
    "print(x,y)\n",
    "z = tf.constant(10,name='c')\n",
    "print(z)\n",
    "with tf.Session() as session:\n",
    "    print('x :%d'%(session.run(x)))\n",
    "    print('y :%d'%(session.run(y)))\n"
   ]
  },
  {
   "cell_type": "code",
   "execution_count": 5,
   "metadata": {},
   "outputs": [
    {
     "name": "stdout",
     "output_type": "stream",
     "text": [
      "WARNING:tensorflow:From /home/user/.local/lib/python3.5/site-packages/tensorflow/python/framework/op_def_library.py:263: colocate_with (from tensorflow.python.framework.ops) is deprecated and will be removed in a future version.\n",
      "Instructions for updating:\n",
      "Colocations handled automatically by placer.\n",
      "<tf.Variable 'y:0' shape=() dtype=int32_ref>\n",
      "WARNING:tensorflow:From /home/user/.local/lib/python3.5/site-packages/tensorflow/python/util/tf_should_use.py:193: initialize_all_variables (from tensorflow.python.ops.variables) is deprecated and will be removed after 2017-03-02.\n",
      "Instructions for updating:\n",
      "Use `tf.global_variables_initializer` instead.\n",
      "29\n"
     ]
    }
   ],
   "source": [
    "#tf.Variable(<initial-value>, name=<optional-name>)\n",
    "\n",
    "import tensorflow as tf\n",
    "x = tf.constant(20,name = 'x')\n",
    "y = tf.Variable(x+9, name = 'y')\n",
    "print(y)\n",
    "\n",
    "model = tf.initialize_all_variables() \n",
    "#model = tf.global_variables_initializer() \n",
    "\n",
    "with tf.Session() as session:\n",
    "    session.run(model)\n",
    "    print(session.run(y))"
   ]
  },
  {
   "cell_type": "code",
   "execution_count": 6,
   "metadata": {},
   "outputs": [
    {
     "name": "stdout",
     "output_type": "stream",
     "text": [
      "[[0.21430189 0.17410819]\n",
      " [0.69486495 0.3112989 ]]\n",
      "[[0.16690698 0.0915114 ]\n",
      " [0.36522156 0.21788868]]\n"
     ]
    }
   ],
   "source": [
    "#tf.placeholder(dtype,shape=None,name=None)\n",
    "\n",
    "import tensorflow as tf\n",
    "import numpy as np\n",
    "\n",
    "\n",
    "x = tf.placeholder(tf.float32, shape=(2,2))\n",
    "y = tf.matmul(x, x)\n",
    "\n",
    "with tf.Session() as sess:\n",
    "    #print(sess.run(y))  # ERROR: will fail because x was not feed.\n",
    "    rand_array = np.random.rand(2,2)\n",
    "    print(rand_array)\n",
    "    print(sess.run(y, feed_dict={x: rand_array}))  # Will succeed.\n"
   ]
  },
  {
   "cell_type": "markdown",
   "metadata": {},
   "source": [
    "#### 1.3 Tensor-張量\n",
    "\n",
    "Tensor : 可以視為一個多維陣列或串列\n",
    "rank (級別) :\n",
    "shape (形狀) :\n",
    "type (型別) :\n",
    "\n",
    "\n"
   ]
  },
  {
   "cell_type": "code",
   "execution_count": 7,
   "metadata": {},
   "outputs": [
    {
     "name": "stdout",
     "output_type": "stream",
     "text": [
      "[1.5 1.3 2.9 3.  7. ]\n",
      "1.5\n",
      "1.3\n",
      "1\n",
      "(5,)\n",
      "float64\n"
     ]
    }
   ],
   "source": [
    "# 初始化 一維張量\n",
    "import numpy as np\n",
    "tensor_1d = np.array([1.5,1.3,2.9,3,7])\n",
    "print(tensor_1d)\n",
    "print(tensor_1d[0])\n",
    "print(tensor_1d[1])\n",
    "print(tensor_1d.ndim) # rank\n",
    "print(tensor_1d.shape) # shape\n",
    "print(tensor_1d.dtype) # type\n"
   ]
  },
  {
   "cell_type": "code",
   "execution_count": 8,
   "metadata": {},
   "outputs": [
    {
     "name": "stdout",
     "output_type": "stream",
     "text": [
      "[1.5 1.3 2.9 3.  7. ]\n",
      "1.5\n"
     ]
    }
   ],
   "source": [
    "import tensorflow as tf\n",
    "\n",
    "tf_sensor = tf.convert_to_tensor(tensor_1d,dtype=tf.float64)\n",
    "\n",
    "with tf.Session() as sess :\n",
    "    print(sess.run(tf_sensor))\n",
    "    print(sess.run(tf_sensor[0]))\n"
   ]
  },
  {
   "cell_type": "code",
   "execution_count": 9,
   "metadata": {},
   "outputs": [
    {
     "name": "stdout",
     "output_type": "stream",
     "text": [
      "[[ 1  2  3  4]\n",
      " [ 5  6  7  8]\n",
      " [ 9 10 11 12]]\n",
      "11\n",
      "[[1 2]\n",
      " [5 6]]\n"
     ]
    }
   ],
   "source": [
    "# 初始化 二維張量\n",
    "\n",
    "import numpy as np\n",
    "tensor_2d = np.array([(1,2,3,4),(5,6,7,8),(9,10,11,12)])\n",
    "print(tensor_2d)\n",
    "print(tensor_2d[2][2])\n",
    "print(tensor_2d[0:2,0:2])"
   ]
  },
  {
   "cell_type": "code",
   "execution_count": 10,
   "metadata": {},
   "outputs": [
    {
     "name": "stdout",
     "output_type": "stream",
     "text": [
      "[[2 2 2]\n",
      " [2 2 2]\n",
      " [2 2 2]]\n",
      "[[1 1 1]\n",
      " [1 1 1]\n",
      " [1 1 1]]\n"
     ]
    }
   ],
   "source": [
    "import tensorflow as tf\n",
    "import numpy as np\n",
    "\n",
    "matrix1 = np.array([(2,2,2),(2,2,2),(2,2,2)],dtype='int32')\n",
    "matrix2 = np.array([(1,1,1),(1,1,1),(1,1,1)],dtype='int32')\n",
    "print(matrix1)\n",
    "print(matrix2)"
   ]
  },
  {
   "cell_type": "code",
   "execution_count": 11,
   "metadata": {},
   "outputs": [
    {
     "name": "stdout",
     "output_type": "stream",
     "text": [
      "Tensor(\"MatMul_1:0\", shape=(3, 3), dtype=int32)\n",
      "Tensor(\"Add_1:0\", shape=(3, 3), dtype=int32)\n"
     ]
    }
   ],
   "source": [
    "matrix1 = tf.constant(matrix1)\n",
    "matrix2 = tf.constant(matrix2)\n",
    "\n",
    "matrix_product = tf.matmul(matrix1,matrix2)\n",
    "matrix_sum = tf.add(matrix1,matrix2)\n",
    "\n",
    "print(matrix_product)\n",
    "print(matrix_sum)\n"
   ]
  },
  {
   "cell_type": "code",
   "execution_count": 12,
   "metadata": {},
   "outputs": [],
   "source": [
    "matrix3 = np.array([(2,7,2),(1,4,2),(9,0,2)],dtype='float32')\n",
    "matrix_det = tf.matrix_determinant(matrix3)\n"
   ]
  },
  {
   "cell_type": "code",
   "execution_count": 13,
   "metadata": {},
   "outputs": [
    {
     "name": "stdout",
     "output_type": "stream",
     "text": [
      "[[6 6 6]\n",
      " [6 6 6]\n",
      " [6 6 6]]\n",
      "[[3 3 3]\n",
      " [3 3 3]\n",
      " [3 3 3]]\n",
      "56.00002\n"
     ]
    }
   ],
   "source": [
    "with tf.Session() as sess:\n",
    "    result1 = sess.run(matrix_product)\n",
    "    result2 = sess.run(matrix_sum)\n",
    "    result3 = sess.run(matrix_det)\n",
    "\n",
    "print(result1)\n",
    "print(result2)\n",
    "print(result3)"
   ]
  },
  {
   "cell_type": "markdown",
   "metadata": {},
   "source": [
    "### TensorFlow 常用運算子"
   ]
  },
  {
   "cell_type": "markdown",
   "metadata": {},
   "source": [
    "|運算子|說明|\n",
    "|-----------|---------|\n",
    "|tf.add|回傳加總的和|\n",
    "|tf.subtract|回傳相減的差|\n",
    "|tf.multiply|回傳相乘後的值|\n",
    "|tf.div|回傳相除後的值|\n",
    "|tf.mod|回傳取餘數的值|\n",
    "|tf.abs|回傳絕對值|\n",
    "|tf.negative|回傳負值|\n",
    "|tf.sign|回傳正負符號值|\n",
    "|tf.square|回傳平方值|\n",
    "|tf.round|回傳最接近的整數值|\n",
    "|tf.sqrt|回傳平方根植|\n",
    "|tf.pow|回傳平方值|\n",
    "|tf.exp|回傳指數值|\n",
    "|tf.log|回傳對數值|\n",
    "|tf.maximum|回傳最大值|\n",
    "|tf.minium|回傳最小值|\n",
    "|tf.cos|回傳餘弦值|\n",
    "|tf.sin|回傳正弦值|"
   ]
  },
  {
   "cell_type": "code",
   "execution_count": 14,
   "metadata": {},
   "outputs": [
    {
     "name": "stdout",
     "output_type": "stream",
     "text": [
      "WARNING:tensorflow:From <ipython-input-14-89d324c63ee3>:9: div (from tensorflow.python.ops.math_ops) is deprecated and will be removed in a future version.\n",
      "Instructions for updating:\n",
      "Deprecated in favor of operator or tf.math.divide.\n",
      "7\n",
      "3\n",
      "10\n",
      "2\n",
      "1\n",
      "10\n",
      "-10\n",
      "1\n"
     ]
    }
   ],
   "source": [
    "import tensorflow as tf\n",
    "\n",
    "a = 5\n",
    "b = 2\n",
    "\n",
    "result_add = tf.add(a,b)\n",
    "result_sub = tf.subtract(a,b)\n",
    "result_mul = tf.multiply(a,b)\n",
    "result_div = tf.div(a,b)\n",
    "result_mod = tf.mod(a,b)\n",
    "result_abs = tf.abs(-10)\n",
    "result_neg = tf.negative(10) \n",
    "#result_neg = tf.negative(-10)\n",
    "result_sign = tf.sign(10)  # y = sign(x) = -1 if x < 0; 0 if x == 0 or tf.is_nan(x); 1 if x > 0 \n",
    "result_square = tf.square(2) \n",
    "\n",
    "with tf.Session() as sess:\n",
    "    print(sess.run(result_add))\n",
    "    print(sess.run(result_sub))\n",
    "    print(sess.run(result_mul))\n",
    "    print(sess.run(result_div))\n",
    "    print(sess.run(result_mod))\n",
    "    print(sess.run(result_abs))\n",
    "    print(sess.run(result_neg))\n",
    "    print(sess.run(result_sign))\n",
    "    \n",
    "\n"
   ]
  },
  {
   "cell_type": "markdown",
   "metadata": {},
   "source": [
    "#### Example 1 計算梯度 (gradient) "
   ]
  },
  {
   "cell_type": "code",
   "execution_count": 15,
   "metadata": {},
   "outputs": [],
   "source": [
    "import tensorflow as tf"
   ]
  },
  {
   "cell_type": "code",
   "execution_count": 16,
   "metadata": {},
   "outputs": [],
   "source": [
    "x = tf.placeholder(tf.float32)"
   ]
  },
  {
   "cell_type": "code",
   "execution_count": 17,
   "metadata": {},
   "outputs": [],
   "source": [
    "y = 5*x*x"
   ]
  },
  {
   "cell_type": "code",
   "execution_count": 18,
   "metadata": {},
   "outputs": [],
   "source": [
    "grad = tf.gradients(y,x)"
   ]
  },
  {
   "cell_type": "code",
   "execution_count": 19,
   "metadata": {},
   "outputs": [
    {
     "name": "stdout",
     "output_type": "stream",
     "text": [
      "[10.0]\n"
     ]
    }
   ],
   "source": [
    "with tf.Session() as session:\n",
    "    grad_value = session.run(grad,feed_dict={x:1})\n",
    "    print(grad_value)\n",
    "    "
   ]
  },
  {
   "cell_type": "markdown",
   "metadata": {},
   "source": [
    "#### Example2 隨機數值 "
   ]
  },
  {
   "cell_type": "code",
   "execution_count": 20,
   "metadata": {},
   "outputs": [],
   "source": [
    "#均勻分布\n",
    "import tensorflow as tf\n",
    "import matplotlib.pyplot as plt"
   ]
  },
  {
   "cell_type": "code",
   "execution_count": 21,
   "metadata": {},
   "outputs": [
    {
     "name": "stdout",
     "output_type": "stream",
     "text": [
      "Tensor(\"random_uniform:0\", shape=(100,), dtype=float32)\n"
     ]
    }
   ],
   "source": [
    "uniform = tf.random_uniform([100],minval=0,maxval=1,dtype=tf.float32)\n",
    "print(uniform)"
   ]
  },
  {
   "cell_type": "code",
   "execution_count": 22,
   "metadata": {},
   "outputs": [
    {
     "name": "stdout",
     "output_type": "stream",
     "text": [
      "[0.07137561 0.43513823 0.6387     0.10288906 0.7148433  0.17876232\n",
      " 0.65577877 0.923398   0.50639844 0.35989165 0.4600103  0.7430811\n",
      " 0.93064487 0.71145403 0.7290329  0.40440094 0.00808036 0.05377436\n",
      " 0.38097262 0.34749758 0.31472147 0.5042325  0.3912716  0.9773884\n",
      " 0.24831152 0.13998592 0.63877976 0.55323637 0.5106596  0.48740816\n",
      " 0.65387356 0.09477413 0.40611625 0.8227577  0.00322342 0.9285338\n",
      " 0.52939177 0.9957074  0.8430941  0.850932   0.62779343 0.6624137\n",
      " 0.80376565 0.8273816  0.57367    0.88930464 0.35232818 0.37699282\n",
      " 0.8270203  0.5320885  0.27904952 0.4025588  0.17221081 0.6094258\n",
      " 0.8867097  0.23669684 0.7897192  0.904865   0.73764205 0.6786921\n",
      " 0.55897045 0.99976325 0.47524333 0.2612555  0.72872996 0.17809272\n",
      " 0.63468623 0.18481565 0.81351066 0.5160428  0.27498543 0.7662375\n",
      " 0.5347811  0.15819454 0.44052994 0.04345882 0.76225233 0.29721153\n",
      " 0.90066767 0.6745552  0.3524276  0.9109968  0.09926248 0.54471993\n",
      " 0.55837476 0.46629202 0.00692701 0.4498812  0.14276028 0.7730837\n",
      " 0.8623761  0.89229083 0.9110131  0.54643977 0.15763175 0.41329443\n",
      " 0.52962327 0.63948655 0.5217086  0.9561186 ]\n"
     ]
    },
    {
     "data": {
      "image/png": "[encoded data removed]",
      "text/plain": [
       "<Figure size 432x288 with 1 Axes>"
      ]
     },
     "metadata": {
      "needs_background": "light"
     },
     "output_type": "display_data"
    }
   ],
   "source": [
    "with tf.Session() as session:\n",
    "    print(uniform.eval())\n",
    "    plt.hist(uniform.eval())\n",
    "      "
   ]
  },
  {
   "cell_type": "code",
   "execution_count": 23,
   "metadata": {},
   "outputs": [],
   "source": [
    "#常態分布\n",
    "import tensorflow as tf\n",
    "import matplotlib.pyplot as plt"
   ]
  },
  {
   "cell_type": "code",
   "execution_count": 24,
   "metadata": {},
   "outputs": [
    {
     "name": "stdout",
     "output_type": "stream",
     "text": [
      "Tensor(\"random_normal:0\", shape=(100,), dtype=float32)\n"
     ]
    }
   ],
   "source": [
    "norm = tf.random_normal([100],mean=0,stddev=1)\n",
    "print(norm)"
   ]
  },
  {
   "cell_type": "code",
   "execution_count": 25,
   "metadata": {},
   "outputs": [
    {
     "name": "stdout",
     "output_type": "stream",
     "text": [
      "[-2.052722    0.77352476 -0.89672947  0.7463963  -0.8016909   1.3223372\n",
      "  1.6966574  -1.4299331   0.9674496   0.8056826  -0.15373123  0.75949544\n",
      "  0.8561931  -1.4150721   0.28794155 -0.47045693  0.34529892 -0.08507732\n",
      "  1.2778959   0.04858794  0.1568036   0.6948106  -1.2513602  -0.42405874\n",
      "  1.1452626   0.79386467 -0.13635708  1.8135011   0.00267414 -0.70335126\n",
      "  0.42777455 -0.5220322  -1.4930487  -0.252804    0.84081376  1.0318295\n",
      " -0.38263172  0.04851265  1.6370106   0.24890988  0.5934625   1.1167142\n",
      " -1.9794458   0.550731   -0.45496908 -0.24480872  0.10415655  0.38414624\n",
      " -0.7763562   0.6183054   0.91361463 -0.5420326   0.94066334  0.32001743\n",
      "  0.05181344 -0.9237027  -1.1827054  -0.12202746 -0.31102115 -0.01959534\n",
      "  0.79807675 -1.5152106  -0.21475372  0.15101217  1.4966081  -1.9831976\n",
      "  2.3090842   0.72606766  1.0661914   0.13284904 -0.11772056 -1.2859849\n",
      "  0.17904094 -0.48751822  1.9131706   0.22070627 -0.43931526 -0.39101484\n",
      "  0.5976753  -0.18775423 -0.90372443  1.3952918   1.6461973   0.28564733\n",
      "  0.9320688   0.14675276  1.2444692   0.16224496  0.50140375 -0.45779538\n",
      "  0.8827338  -0.5145417   0.3701514  -0.39995074  0.31289187  0.37453666\n",
      "  0.15423602 -0.02496994 -1.6250736  -0.11678809]\n"
     ]
    },
    {
     "data": {
      "image/png": "[encoded data removed]",
      "text/plain": [
       "<Figure size 432x288 with 1 Axes>"
      ]
     },
     "metadata": {
      "needs_background": "light"
     },
     "output_type": "display_data"
    }
   ],
   "source": [
    "with tf.Session() as session:\n",
    "    print(norm.eval())\n",
    "    plt.hist(norm.eval())\n",
    "      "
   ]
  },
  {
   "cell_type": "markdown",
   "metadata": {},
   "source": [
    "#### Example3 線性迴歸\n"
   ]
  },
  {
   "cell_type": "code",
   "execution_count": 26,
   "metadata": {},
   "outputs": [
    {
     "data": {
      "image/png": "[encoded data removed]",
      "text/plain": [
       "<Figure size 432x288 with 1 Axes>"
      ]
     },
     "metadata": {
      "needs_background": "light"
     },
     "output_type": "display_data"
    },
    {
     "data": {
      "image/png": "[encoded data removed]",
      "text/plain": [
       "<Figure size 432x288 with 1 Axes>"
      ]
     },
     "metadata": {
      "needs_background": "light"
     },
     "output_type": "display_data"
    },
    {
     "data": {
      "image/png": "[encoded data removed]",
      "text/plain": [
       "<Figure size 432x288 with 1 Axes>"
      ]
     },
     "metadata": {
      "needs_background": "light"
     },
     "output_type": "display_data"
    },
    {
     "data": {
      "image/png": "[encoded data removed]",
      "text/plain": [
       "<Figure size 432x288 with 1 Axes>"
      ]
     },
     "metadata": {
      "needs_background": "light"
     },
     "output_type": "display_data"
    },
    {
     "data": {
      "image/png": "[encoded data removed]",
      "text/plain": [
       "<Figure size 432x288 with 1 Axes>"
      ]
     },
     "metadata": {
      "needs_background": "light"
     },
     "output_type": "display_data"
    },
    {
     "data": {
      "image/png": "[encoded data removed]",
      "text/plain": [
       "<Figure size 432x288 with 1 Axes>"
      ]
     },
     "metadata": {
      "needs_background": "light"
     },
     "output_type": "display_data"
    },
    {
     "data": {
      "image/png": "[encoded data removed]",
      "text/plain": [
       "<Figure size 432x288 with 1 Axes>"
      ]
     },
     "metadata": {
      "needs_background": "light"
     },
     "output_type": "display_data"
    },
    {
     "data": {
      "image/png": "[encoded data removed]",
      "text/plain": [
       "<Figure size 432x288 with 1 Axes>"
      ]
     },
     "metadata": {
      "needs_background": "light"
     },
     "output_type": "display_data"
    },
    {
     "data": {
      "image/png": "[encoded data removed]",
      "text/plain": [
       "<Figure size 432x288 with 1 Axes>"
      ]
     },
     "metadata": {
      "needs_background": "light"
     },
     "output_type": "display_data"
    },
    {
     "data": {
      "image/png": "[encoded data removed]",
      "text/plain": [
       "<Figure size 432x288 with 1 Axes>"
      ]
     },
     "metadata": {
      "needs_background": "light"
     },
     "output_type": "display_data"
    },
    {
     "data": {
      "image/png": "[encoded data removed]",
      "text/plain": [
       "<Figure size 432x288 with 1 Axes>"
      ]
     },
     "metadata": {
      "needs_background": "light"
     },
     "output_type": "display_data"
    }
   ],
   "source": [
    "import numpy as np\n",
    "import matplotlib.pyplot as plt\n",
    "import tensorflow as tf\n",
    "\n",
    "number_of_points = 200\n",
    "x_point = []\n",
    "y_point = []\n",
    "a = 0.22\n",
    "b = 0.78\n",
    "for i in range(number_of_points):\n",
    "    x = np.random.normal(0.0,0.5)\n",
    "    y = a*x + b +np.random.normal(0.0,0.1)\n",
    "    x_point.append([x])\n",
    "    y_point.append([y])\n",
    "\n",
    "\n",
    "plt.plot(x_point,y_point, 'o', label='Input Data')\n",
    "plt.legend()\n",
    "plt.show()\n",
    "\n",
    "\n",
    "A = tf.Variable(tf.random_uniform([1], -1.0, 1.0))\n",
    "B = tf.Variable(tf.zeros([1]))\n",
    "y = A * x_point + B\n",
    "\n",
    "cost_function = tf.reduce_mean(tf.square(y - y_point))\n",
    "optimizer = tf.train.GradientDescentOptimizer(0.5) # 學習率(lerarning rate) => 決定多快會移動到最佳的權重, 值大: 忽略最佳解, 值小 : 需多次迭代來收斂至最佳解  \n",
    "train = optimizer.minimize(cost_function)\n",
    "\n",
    "model = tf.initialize_all_variables()\n",
    "\n",
    "with tf.Session() as session:\n",
    "        session.run(model)\n",
    "        for step in range(0,20):\n",
    "                session.run(train)\n",
    "                if (step % 2) == 0:\n",
    "                        plt.plot(x_point, y_point,\n",
    "                                 'o',label='step = {}'.format(step))\n",
    "                        plt.plot(x_point,\n",
    "                                 session.run(A) * x_point + session.run(B))\n",
    "                        plt.legend()\n",
    "                        plt.show()\n"
   ]
  },
  {
   "cell_type": "markdown",
   "metadata": {},
   "source": [
    "####  Example4 MNIST\n",
    "* 0 ~ 9 手寫數字黑白圖像\n",
    "* 資料筆數 :70000"
   ]
  },
  {
   "cell_type": "code",
   "execution_count": 27,
   "metadata": {},
   "outputs": [
    {
     "name": "stdout",
     "output_type": "stream",
     "text": [
      "WARNING:tensorflow:From <ipython-input-27-1ae8606333c6>:5: read_data_sets (from tensorflow.contrib.learn.python.learn.datasets.mnist) is deprecated and will be removed in a future version.\n",
      "Instructions for updating:\n",
      "Please use alternatives such as official/mnist/dataset.py from tensorflow/models.\n",
      "WARNING:tensorflow:From /home/user/.local/lib/python3.5/site-packages/tensorflow/contrib/learn/python/learn/datasets/mnist.py:260: maybe_download (from tensorflow.contrib.learn.python.learn.datasets.base) is deprecated and will be removed in a future version.\n",
      "Instructions for updating:\n",
      "Please write your own downloading logic.\n",
      "WARNING:tensorflow:From /home/user/.local/lib/python3.5/site-packages/tensorflow/contrib/learn/python/learn/datasets/mnist.py:262: extract_images (from tensorflow.contrib.learn.python.learn.datasets.mnist) is deprecated and will be removed in a future version.\n",
      "Instructions for updating:\n",
      "Please use tf.data to implement this functionality.\n",
      "Extracting MNIST/train-images-idx3-ubyte.gz\n",
      "WARNING:tensorflow:From /home/user/.local/lib/python3.5/site-packages/tensorflow/contrib/learn/python/learn/datasets/mnist.py:267: extract_labels (from tensorflow.contrib.learn.python.learn.datasets.mnist) is deprecated and will be removed in a future version.\n",
      "Instructions for updating:\n",
      "Please use tf.data to implement this functionality.\n",
      "Extracting MNIST/train-labels-idx1-ubyte.gz\n",
      "WARNING:tensorflow:From /home/user/.local/lib/python3.5/site-packages/tensorflow/contrib/learn/python/learn/datasets/mnist.py:110: dense_to_one_hot (from tensorflow.contrib.learn.python.learn.datasets.mnist) is deprecated and will be removed in a future version.\n",
      "Instructions for updating:\n",
      "Please use tf.one_hot on tensors.\n",
      "Extracting MNIST/t10k-images-idx3-ubyte.gz\n",
      "Extracting MNIST/t10k-labels-idx1-ubyte.gz\n",
      "WARNING:tensorflow:From /home/user/.local/lib/python3.5/site-packages/tensorflow/contrib/learn/python/learn/datasets/mnist.py:290: DataSet.__init__ (from tensorflow.contrib.learn.python.learn.datasets.mnist) is deprecated and will be removed in a future version.\n",
      "Instructions for updating:\n",
      "Please use alternatives such as official/mnist/dataset.py from tensorflow/models.\n"
     ]
    }
   ],
   "source": [
    "from __future__ import print_function\n",
    "\n",
    "from tensorflow.examples.tutorials.mnist import input_data\n",
    "\n",
    "mnist = input_data.read_data_sets(\"MNIST/\",one_hot=True)\n"
   ]
  },
  {
   "cell_type": "code",
   "execution_count": 28,
   "metadata": {},
   "outputs": [],
   "source": [
    "pixels,real_values = mnist.train.next_batch(10)"
   ]
  },
  {
   "cell_type": "code",
   "execution_count": 29,
   "metadata": {},
   "outputs": [
    {
     "name": "stdout",
     "output_type": "stream",
     "text": [
      "[[0. 0. 0. 0. 0. 1. 0. 0. 0. 0.]\n",
      " [0. 0. 0. 1. 0. 0. 0. 0. 0. 0.]\n",
      " [0. 0. 0. 0. 0. 0. 1. 0. 0. 0.]\n",
      " [0. 0. 0. 0. 1. 0. 0. 0. 0. 0.]\n",
      " [0. 0. 0. 0. 1. 0. 0. 0. 0. 0.]\n",
      " [0. 1. 0. 0. 0. 0. 0. 0. 0. 0.]\n",
      " [0. 0. 0. 0. 0. 0. 0. 1. 0. 0.]\n",
      " [0. 0. 0. 0. 0. 0. 0. 0. 0. 1.]\n",
      " [0. 1. 0. 0. 0. 0. 0. 0. 0. 0.]\n",
      " [0. 0. 0. 0. 1. 0. 0. 0. 0. 0.]]\n"
     ]
    }
   ],
   "source": [
    "print(real_values)"
   ]
  },
  {
   "cell_type": "code",
   "execution_count": 30,
   "metadata": {},
   "outputs": [
    {
     "data": {
      "text/plain": [
       "<matplotlib.image.AxesImage at 0x7fa125f96c88>"
      ]
     },
     "execution_count": 30,
     "metadata": {},
     "output_type": "execute_result"
    },
    {
     "data": {
      "image/png": "[encoded data removed]",
      "text/plain": [
       "<Figure size 432x288 with 1 Axes>"
      ]
     },
     "metadata": {
      "needs_background": "light"
     },
     "output_type": "display_data"
    }
   ],
   "source": [
    "image = pixels[1]\n",
    "image = np.reshape(image,[28,28])\n",
    "plt.imshow(image)"
   ]
  },
  {
   "cell_type": "markdown",
   "metadata": {},
   "source": [
    "### KNN"
   ]
  },
  {
   "cell_type": "code",
   "execution_count": 52,
   "metadata": {},
   "outputs": [
    {
     "name": "stdout",
     "output_type": "stream",
     "text": [
      "Extracting MNIST/train-images-idx3-ubyte.gz\n",
      "Extracting MNIST/train-labels-idx1-ubyte.gz\n",
      "Extracting MNIST/t10k-images-idx3-ubyte.gz\n",
      "Extracting MNIST/t10k-labels-idx1-ubyte.gz\n"
     ]
    }
   ],
   "source": [
    "from __future__ import print_function\n",
    "\n",
    "from tensorflow.examples.tutorials.mnist import input_data\n",
    "\n",
    "mnist = input_data.read_data_sets(\"MNIST/\",one_hot=True)\n"
   ]
  },
  {
   "cell_type": "code",
   "execution_count": 53,
   "metadata": {},
   "outputs": [],
   "source": [
    "train_pixels,train_list_values = mnist.train.next_batch(100)"
   ]
  },
  {
   "cell_type": "code",
   "execution_count": 54,
   "metadata": {},
   "outputs": [],
   "source": [
    "test_pixels,test_list_values = mnist.train.next_batch(20)"
   ]
  },
  {
   "cell_type": "code",
   "execution_count": 55,
   "metadata": {},
   "outputs": [],
   "source": [
    "import tensorflow as tf"
   ]
  },
  {
   "cell_type": "code",
   "execution_count": 56,
   "metadata": {},
   "outputs": [],
   "source": [
    "train_pixels_tensor = tf.placeholder(\"float\",[None,784])"
   ]
  },
  {
   "cell_type": "code",
   "execution_count": 57,
   "metadata": {},
   "outputs": [],
   "source": [
    "test_pixels_tensor = tf.placeholder(\"float\",[784])"
   ]
  },
  {
   "cell_type": "code",
   "execution_count": 58,
   "metadata": {},
   "outputs": [],
   "source": [
    "distance = tf.reduce_sum(tf.abs(tf.add(train_pixels_tensor,tf.negative(test_pixels_tensor))),reduction_indices=1)"
   ]
  },
  {
   "cell_type": "code",
   "execution_count": 59,
   "metadata": {},
   "outputs": [],
   "source": [
    "pred = tf.argmin(distance, 0)"
   ]
  },
  {
   "cell_type": "code",
   "execution_count": 60,
   "metadata": {},
   "outputs": [],
   "source": [
    "init = tf.initialize_all_variables()"
   ]
  },
  {
   "cell_type": "code",
   "execution_count": 63,
   "metadata": {},
   "outputs": [
    {
     "name": "stdout",
     "output_type": "stream",
     "text": [
      "Test N°  0 Predicted Class:  6 True Class:  6\n",
      "Test N°  1 Predicted Class:  7 True Class:  7\n",
      "Test N°  2 Predicted Class:  1 True Class:  2\n",
      "Test N°  3 Predicted Class:  1 True Class:  1\n",
      "Test N°  4 Predicted Class:  7 True Class:  7\n",
      "Test N°  5 Predicted Class:  3 True Class:  8\n",
      "Test N°  6 Predicted Class:  2 True Class:  2\n",
      "Test N°  7 Predicted Class:  0 True Class:  0\n",
      "Test N°  8 Predicted Class:  2 True Class:  2\n",
      "Test N°  9 Predicted Class:  7 True Class:  9\n",
      "Test N°  10 Predicted Class:  1 True Class:  2\n",
      "Test N°  11 Predicted Class:  6 True Class:  6\n",
      "Test N°  12 Predicted Class:  7 True Class:  3\n",
      "Test N°  13 Predicted Class:  0 True Class:  0\n",
      "Test N°  14 Predicted Class:  0 True Class:  0\n",
      "Test N°  15 Predicted Class:  2 True Class:  2\n",
      "Test N°  16 Predicted Class:  9 True Class:  9\n",
      "Test N°  17 Predicted Class:  1 True Class:  3\n",
      "Test N°  18 Predicted Class:  4 True Class:  9\n",
      "Test N°  19 Predicted Class:  7 True Class:  4\n"
     ]
    }
   ],
   "source": [
    "with tf.Session() as sess:\n",
    "    accuracy = 0\n",
    "    sess.run(init)\n",
    "    for i in range(len(test_list_values)):\n",
    "        nn_index = sess.run(pred,feed_dict={train_pixels_tensor:train_pixels,test_pixels_tensor:test_pixels[i,:]})\n",
    "        print(\"Test N° \", i,\"Predicted Class: \",np.argmax(train_list_values[nn_index]),\"True Class: \", np.argmax(test_list_values[i]))\n",
    "       \n",
    "   "
   ]
  },
  {
   "cell_type": "code",
   "execution_count": null,
   "metadata": {},
   "outputs": [],
   "source": []
  },
  {
   "cell_type": "code",
   "execution_count": null,
   "metadata": {},
   "outputs": [],
   "source": []
  }
 ],
 "metadata": {
  "kernelspec": {
   "display_name": "Python 3",
   "language": "python",
   "name": "python3"
  },
  "language_info": {
   "codemirror_mode": {
    "name": "ipython",
    "version": 3
   },
   "file_extension": ".py",
   "mimetype": "text/x-python",
   "name": "python",
   "nbconvert_exporter": "python",
   "pygments_lexer": "ipython3",
   "version": "3.5.2"
  }
 },
 "nbformat": 4,
 "nbformat_minor": 2
}
